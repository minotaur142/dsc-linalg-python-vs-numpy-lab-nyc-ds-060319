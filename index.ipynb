{
 "cells": [
  {
   "cell_type": "markdown",
   "metadata": {},
   "source": [
    "# Pure Python vs. Numpy - Lab\n",
    "\n",
    "## Introduction \n",
    "\n",
    "Numpy, Scipy and Pandas provide a significant increase in computational efficiency with complex mathematical operations as compared to Python's built in arithmetic functions. In this lab, you will calculate and compare the processing speed required for calculating a dot product using both basic arithmetic operations in Python and Numpy's `.dot()` method. \n",
    "\n",
    "## Objectives\n",
    "You will be able to:\n",
    "* Compare the performance of high-dimensional matrix operations in Numpy vs. pure Python\n",
    "\n",
    "## Problem \n",
    "\n",
    "Write a routine to calculate the dot product between two $200 \\times 200$ dimensional matrices using:\n",
    "\n",
    "a) Pure Python (no libraries)\n",
    "\n",
    "b) Numpy's `.dot()`\n",
    "\n",
    "\n",
    "### Create two $200 \\times 200$ matrices in Python and fill them with random values using `np.random.rand()` "
   ]
  },
  {
   "cell_type": "code",
   "execution_count": 5,
   "metadata": {},
   "outputs": [
    {
     "data": {
      "text/plain": [
       "(200, 200)"
      ]
     },
     "execution_count": 5,
     "metadata": {},
     "output_type": "execute_result"
    }
   ],
   "source": [
    "A.shape"
   ]
  },
  {
   "cell_type": "code",
   "execution_count": 7,
   "metadata": {},
   "outputs": [
    {
     "ename": "NameError",
     "evalue": "name 'bnp' is not defined",
     "output_type": "error",
     "traceback": [
      "\u001b[0;31m\u001b[0m",
      "\u001b[0;31mNameError\u001b[0mTraceback (most recent call last)",
      "\u001b[0;32m<ipython-input-7-43df527a525c>\u001b[0m in \u001b[0;36m<module>\u001b[0;34m()\u001b[0m\n\u001b[1;32m      7\u001b[0m \u001b[0;32mfor\u001b[0m \u001b[0mx\u001b[0m \u001b[0;32min\u001b[0m \u001b[0mrange\u001b[0m\u001b[0;34m(\u001b[0m\u001b[0mA\u001b[0m\u001b[0;34m.\u001b[0m\u001b[0mshape\u001b[0m\u001b[0;34m[\u001b[0m\u001b[0;36m0\u001b[0m\u001b[0;34m]\u001b[0m\u001b[0;34m)\u001b[0m\u001b[0;34m:\u001b[0m\u001b[0;34m\u001b[0m\u001b[0m\n\u001b[1;32m      8\u001b[0m     \u001b[0;32mfor\u001b[0m \u001b[0my\u001b[0m \u001b[0;32min\u001b[0m \u001b[0mrange\u001b[0m\u001b[0;34m(\u001b[0m\u001b[0mA\u001b[0m\u001b[0;34m.\u001b[0m\u001b[0mshape\u001b[0m\u001b[0;34m[\u001b[0m\u001b[0;36m1\u001b[0m\u001b[0;34m]\u001b[0m\u001b[0;34m)\u001b[0m\u001b[0;34m:\u001b[0m\u001b[0;34m\u001b[0m\u001b[0m\n\u001b[0;32m----> 9\u001b[0;31m         \u001b[0mA\u001b[0m\u001b[0;34m[\u001b[0m\u001b[0mx\u001b[0m\u001b[0;34m:\u001b[0m\u001b[0my\u001b[0m\u001b[0;34m]\u001b[0m\u001b[0;34m=\u001b[0m\u001b[0mbnp\u001b[0m\u001b[0;34m.\u001b[0m\u001b[0mrandom\u001b[0m\u001b[0;34m.\u001b[0m\u001b[0mrand\u001b[0m\u001b[0;34m(\u001b[0m\u001b[0;34m)\u001b[0m\u001b[0;34m\u001b[0m\u001b[0m\n\u001b[0m\u001b[1;32m     10\u001b[0m \u001b[0;32mfor\u001b[0m \u001b[0mx\u001b[0m \u001b[0;32min\u001b[0m \u001b[0mrange\u001b[0m\u001b[0;34m(\u001b[0m\u001b[0mB\u001b[0m\u001b[0;34m.\u001b[0m\u001b[0mshape\u001b[0m\u001b[0;34m[\u001b[0m\u001b[0;36m0\u001b[0m\u001b[0;34m]\u001b[0m\u001b[0;34m)\u001b[0m\u001b[0;34m:\u001b[0m\u001b[0;34m\u001b[0m\u001b[0m\n\u001b[1;32m     11\u001b[0m     \u001b[0;32mfor\u001b[0m \u001b[0my\u001b[0m \u001b[0;32min\u001b[0m \u001b[0mrange\u001b[0m\u001b[0;34m(\u001b[0m\u001b[0mB\u001b[0m\u001b[0;34m.\u001b[0m\u001b[0mshape\u001b[0m\u001b[0;34m[\u001b[0m\u001b[0;36m1\u001b[0m\u001b[0;34m]\u001b[0m\u001b[0;34m)\u001b[0m\u001b[0;34m:\u001b[0m\u001b[0;34m\u001b[0m\u001b[0m\n",
      "\u001b[0;31mNameError\u001b[0m: name 'bnp' is not defined"
     ]
    }
   ],
   "source": [
    "# Compare 200x200 matrix-matrix multiplication speed\n",
    "import numpy as np\n",
    "\n",
    "# Set up the variables\n",
    "A = np.zeros((200,200))\n",
    "B = np.zeros((200,200))\n",
    "for x in range(A.shape[0]):\n",
    "    for y in range(A.shape[1]):\n",
    "        A[x:y]=bnp.random.rand()\n",
    "for x in range(B.shape[0]):\n",
    "    for y in range(B.shape[1]):\n",
    "        B[x:y]=np.random.rand()"
   ]
  },
  {
   "cell_type": "markdown",
   "metadata": {},
   "source": [
    "## Pure Python\n",
    "\n",
    "* Initialize a zeros-filled `numpy` matrix\n",
    "* In Python, calculate the dot product using the formula \n",
    "\n",
    "\n",
    "$$ \\large C_{i,j}= \\sum_k A_{i,k}B_{k,j}$$\n",
    "\n",
    "\n",
    "* Use Python's `timeit` library to calculate the processing time\n",
    "* [Visit this link](https://www.pythoncentral.io/time-a-python-function/) for an in-depth explanation on how to time a function or routine in python\n",
    "\n",
    "**Hint**: Use a nested for loop for accessing, calculating and storing each scalar value in the resulting matrix"
   ]
  },
  {
   "cell_type": "code",
   "execution_count": 3,
   "metadata": {},
   "outputs": [
    {
     "name": "stdout",
     "output_type": "stream",
     "text": [
      "Pure Python Time: None sec.\n"
     ]
    }
   ],
   "source": [
    "import timeit\n",
    "\n",
    "# Start the timer\n",
    "start = None\n",
    "\n",
    "# Matrix multiplication in pure Python\n",
    "\n",
    "\n",
    "time_spent = None\n",
    "\n",
    "print('Pure Python Time:', time_spent, 'sec.')"
   ]
  },
  {
   "cell_type": "markdown",
   "metadata": {},
   "source": [
    "## Numpy \n",
    "Set the timer and calculate the time taken by `.dot()` function for multiplying $A$ and $B$ \n"
   ]
  },
  {
   "cell_type": "code",
   "execution_count": 4,
   "metadata": {},
   "outputs": [
    {
     "name": "stdout",
     "output_type": "stream",
     "text": [
      "Numpy Time: None sec.\n"
     ]
    }
   ],
   "source": [
    "# start the timer\n",
    "start = None\n",
    "\n",
    "# Matrix multiplication in numpy\n",
    "\n",
    "\n",
    "time_spent = None\n",
    "print('Numpy Time:', time_spent, 'sec.')"
   ]
  },
  {
   "cell_type": "markdown",
   "metadata": {},
   "source": [
    "### Your comments \n",
    "\n",
    "\n",
    "```\n",
    "```\n",
    "\n",
    "## Summary\n",
    "\n",
    "In this lab, you performed a quick comparison between calculating a dot product in Numpy vs Python built in function. You saw that Numpy is computationally much more efficient that Python code because of the sophisticated implementation of Numpy source code. You're encouraged to always perform time tests to fully appreciate the use of an additional library in Python. "
   ]
  }
 ],
 "metadata": {
  "kernelspec": {
   "display_name": "Python 3",
   "language": "python",
   "name": "python3"
  },
  "language_info": {
   "codemirror_mode": {
    "name": "ipython",
    "version": 3
   },
   "file_extension": ".py",
   "mimetype": "text/x-python",
   "name": "python",
   "nbconvert_exporter": "python",
   "pygments_lexer": "ipython3",
   "version": "3.6.6"
  }
 },
 "nbformat": 4,
 "nbformat_minor": 2
}
